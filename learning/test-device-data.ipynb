{
 "cells": [
  {
   "cell_type": "code",
   "execution_count": 2,
   "metadata": {},
   "outputs": [],
   "source": [
    "import soundfile as sf\n",
    "import librosa\n",
    "import ast\n",
    "import numpy as np\n",
    "import pandas as pd"
   ]
  },
  {
   "cell_type": "code",
   "execution_count": 4,
   "metadata": {},
   "outputs": [
    {
     "data": {
      "text/html": [
       "<div>\n",
       "<style scoped>\n",
       "    .dataframe tbody tr th:only-of-type {\n",
       "        vertical-align: middle;\n",
       "    }\n",
       "\n",
       "    .dataframe tbody tr th {\n",
       "        vertical-align: top;\n",
       "    }\n",
       "\n",
       "    .dataframe thead th {\n",
       "        text-align: right;\n",
       "    }\n",
       "</style>\n",
       "<table border=\"1\" class=\"dataframe\">\n",
       "  <thead>\n",
       "    <tr style=\"text-align: right;\">\n",
       "      <th></th>\n",
       "      <th>0</th>\n",
       "    </tr>\n",
       "  </thead>\n",
       "  <tbody>\n",
       "    <tr>\n",
       "      <th>count</th>\n",
       "      <td>220500.000000</td>\n",
       "    </tr>\n",
       "    <tr>\n",
       "      <th>mean</th>\n",
       "      <td>0.000008</td>\n",
       "    </tr>\n",
       "    <tr>\n",
       "      <th>std</th>\n",
       "      <td>0.003087</td>\n",
       "    </tr>\n",
       "    <tr>\n",
       "      <th>min</th>\n",
       "      <td>-0.035370</td>\n",
       "    </tr>\n",
       "    <tr>\n",
       "      <th>25%</th>\n",
       "      <td>-0.001312</td>\n",
       "    </tr>\n",
       "    <tr>\n",
       "      <th>50%</th>\n",
       "      <td>0.000031</td>\n",
       "    </tr>\n",
       "    <tr>\n",
       "      <th>75%</th>\n",
       "      <td>0.001343</td>\n",
       "    </tr>\n",
       "    <tr>\n",
       "      <th>max</th>\n",
       "      <td>0.029633</td>\n",
       "    </tr>\n",
       "  </tbody>\n",
       "</table>\n",
       "</div>"
      ],
      "text/plain": [
       "                   0\n",
       "count  220500.000000\n",
       "mean        0.000008\n",
       "std         0.003087\n",
       "min        -0.035370\n",
       "25%        -0.001312\n",
       "50%         0.000031\n",
       "75%         0.001343\n",
       "max         0.029633"
      ]
     },
     "execution_count": 4,
     "metadata": {},
     "output_type": "execute_result"
    }
   ],
   "source": [
    "\n",
    "\n",
    "with open('my_data/float_data_from_device.txt', 'r') as f:\n",
    "   a = np.array([ast.literal_eval(line) for line in f][0], dtype='float32')\n",
    "\n",
    "sf.write('my_data/float_data_from_device.wav', a, 44100)\n",
    "\n",
    "pd.DataFrame(a).describe()\n"
   ]
  },
  {
   "cell_type": "code",
   "execution_count": 6,
   "metadata": {},
   "outputs": [
    {
     "name": "stdout",
     "output_type": "stream",
     "text": [
      "431 220500\n"
     ]
    }
   ],
   "source": [
    "DEFAULT_FRAME_SIZE = 512\n",
    "zcr_feat = librosa.feature.zero_crossing_rate(y=a, hop_length=DEFAULT_FRAME_SIZE)\n",
    "\n",
    "print(len(zcr_feat[0]), len(a))"
   ]
  },
  {
   "cell_type": "code",
   "execution_count": 22,
   "metadata": {},
   "outputs": [
    {
     "data": {
      "text/plain": [
       "{'AIFF': 'AIFF (Apple/SGI)',\n",
       " 'AU': 'AU (Sun/NeXT)',\n",
       " 'AVR': 'AVR (Audio Visual Research)',\n",
       " 'CAF': 'CAF (Apple Core Audio File)',\n",
       " 'FLAC': 'FLAC (Free Lossless Audio Codec)',\n",
       " 'HTK': 'HTK (HMM Tool Kit)',\n",
       " 'SVX': 'IFF (Amiga IFF/SVX8/SV16)',\n",
       " 'MAT4': 'MAT4 (GNU Octave 2.0 / Matlab 4.2)',\n",
       " 'MAT5': 'MAT5 (GNU Octave 2.1 / Matlab 5.0)',\n",
       " 'MPC2K': 'MPC (Akai MPC 2k)',\n",
       " 'OGG': 'OGG (OGG Container format)',\n",
       " 'PAF': 'PAF (Ensoniq PARIS)',\n",
       " 'PVF': 'PVF (Portable Voice Format)',\n",
       " 'RAW': 'RAW (header-less)',\n",
       " 'RF64': 'RF64 (RIFF 64)',\n",
       " 'SD2': 'SD2 (Sound Designer II)',\n",
       " 'SDS': 'SDS (Midi Sample Dump Standard)',\n",
       " 'IRCAM': 'SF (Berkeley/IRCAM/CARL)',\n",
       " 'VOC': 'VOC (Creative Labs)',\n",
       " 'W64': 'W64 (SoundFoundry WAVE 64)',\n",
       " 'WAV': 'WAV (Microsoft)',\n",
       " 'NIST': 'WAV (NIST Sphere)',\n",
       " 'WAVEX': 'WAVEX (Microsoft)',\n",
       " 'WVE': 'WVE (Psion Series 3)',\n",
       " 'XI': 'XI (FastTracker 2)'}"
      ]
     },
     "execution_count": 22,
     "metadata": {},
     "output_type": "execute_result"
    }
   ],
   "source": [
    "sf.available_formats()"
   ]
  },
  {
   "cell_type": "code",
   "execution_count": 23,
   "metadata": {},
   "outputs": [
    {
     "data": {
      "text/plain": [
       "{'PCM_S8': 'Signed 8 bit PCM',\n",
       " 'PCM_16': 'Signed 16 bit PCM',\n",
       " 'PCM_24': 'Signed 24 bit PCM',\n",
       " 'PCM_32': 'Signed 32 bit PCM',\n",
       " 'PCM_U8': 'Unsigned 8 bit PCM',\n",
       " 'FLOAT': '32 bit float',\n",
       " 'DOUBLE': '64 bit float',\n",
       " 'ULAW': 'U-Law',\n",
       " 'ALAW': 'A-Law',\n",
       " 'IMA_ADPCM': 'IMA ADPCM',\n",
       " 'MS_ADPCM': 'Microsoft ADPCM',\n",
       " 'GSM610': 'GSM 6.10',\n",
       " 'G721_32': '32kbs G721 ADPCM',\n",
       " 'G723_24': '24kbs G723 ADPCM',\n",
       " 'DWVW_12': '12 bit DWVW',\n",
       " 'DWVW_16': '16 bit DWVW',\n",
       " 'DWVW_24': '24 bit DWVW',\n",
       " 'VOX_ADPCM': 'VOX ADPCM',\n",
       " 'DPCM_16': '16 bit DPCM',\n",
       " 'DPCM_8': '8 bit DPCM',\n",
       " 'VORBIS': 'Vorbis',\n",
       " 'ALAC_16': '16 bit ALAC',\n",
       " 'ALAC_20': '20 bit ALAC',\n",
       " 'ALAC_24': '24 bit ALAC',\n",
       " 'ALAC_32': '32 bit ALAC'}"
      ]
     },
     "execution_count": 23,
     "metadata": {},
     "output_type": "execute_result"
    }
   ],
   "source": [
    "sf.available_subtypes()"
   ]
  },
  {
   "cell_type": "code",
   "execution_count": 78,
   "metadata": {},
   "outputs": [
    {
     "data": {
      "text/html": [
       "<div>\n",
       "<style scoped>\n",
       "    .dataframe tbody tr th:only-of-type {\n",
       "        vertical-align: middle;\n",
       "    }\n",
       "\n",
       "    .dataframe tbody tr th {\n",
       "        vertical-align: top;\n",
       "    }\n",
       "\n",
       "    .dataframe thead th {\n",
       "        text-align: right;\n",
       "    }\n",
       "</style>\n",
       "<table border=\"1\" class=\"dataframe\">\n",
       "  <thead>\n",
       "    <tr style=\"text-align: right;\">\n",
       "      <th></th>\n",
       "      <th>0</th>\n",
       "    </tr>\n",
       "  </thead>\n",
       "  <tbody>\n",
       "    <tr>\n",
       "      <th>count</th>\n",
       "      <td>109536.000000</td>\n",
       "    </tr>\n",
       "    <tr>\n",
       "      <th>mean</th>\n",
       "      <td>0.000119</td>\n",
       "    </tr>\n",
       "    <tr>\n",
       "      <th>std</th>\n",
       "      <td>0.036661</td>\n",
       "    </tr>\n",
       "    <tr>\n",
       "      <th>min</th>\n",
       "      <td>-0.389343</td>\n",
       "    </tr>\n",
       "    <tr>\n",
       "      <th>25%</th>\n",
       "      <td>-0.009216</td>\n",
       "    </tr>\n",
       "    <tr>\n",
       "      <th>50%</th>\n",
       "      <td>0.000000</td>\n",
       "    </tr>\n",
       "    <tr>\n",
       "      <th>75%</th>\n",
       "      <td>0.011292</td>\n",
       "    </tr>\n",
       "    <tr>\n",
       "      <th>max</th>\n",
       "      <td>0.247375</td>\n",
       "    </tr>\n",
       "  </tbody>\n",
       "</table>\n",
       "</div>"
      ],
      "text/plain": [
       "                   0\n",
       "count  109536.000000\n",
       "mean        0.000119\n",
       "std         0.036661\n",
       "min        -0.389343\n",
       "25%        -0.009216\n",
       "50%         0.000000\n",
       "75%         0.011292\n",
       "max         0.247375"
      ]
     },
     "execution_count": 78,
     "metadata": {},
     "output_type": "execute_result"
    }
   ],
   "source": [
    "#data, sr = librosa.load('my_data/flutter_sound_example.pcm', sr=44100, )\n",
    "\n",
    "with open('my_data/flutter_sound_example.pcm', 'rb') as f:\n",
    "    data, samplerate = sf.read(f, channels=1, samplerate=44100, subtype='PCM_16', format='RAW')\n",
    "\n",
    "\n",
    "# Teste de audibilidade\n",
    "sf.write('my_data/flutter_sound_example.wav', data, 44100)\n",
    "\n",
    "# Funcionou! Agora vamos ver\n",
    "pd.DataFrame(data).describe()"
   ]
  },
  {
   "cell_type": "code",
   "execution_count": 67,
   "metadata": {},
   "outputs": [
    {
     "name": "stdout",
     "output_type": "stream",
     "text": [
      "y: [-1 -2 -3 -4  0  6  7 -8  9  9] 10\n",
      "padding: [(0, 0)]\n",
      "padding: [(3, 3)]\n",
      "16\n",
      "   0  1  2  3  4  5\n",
      "0 -1 -1 -2 -4  6 -8\n",
      "1 -1 -1 -3  0  7  9\n",
      "2 -1 -2 -4  6 -8  9\n",
      "3 -1 -3  0  7  9  9\n",
      "4 -2 -4  6 -8  9  9\n",
      "5 -3  0  7  9  9  9\n",
      "[[False False False False False False]\n",
      " [False False False  True False  True]\n",
      " [False False False False  True False]\n",
      " [False False  True False  True False]\n",
      " [False False False  True False False]\n",
      " [False  True False  True False False]]\n",
      "0.2222222222222222\n"
     ]
    }
   ],
   "source": [
    "import numpy as np\n",
    "import pandas as pd\n",
    "from librosa import util, core\n",
    "\n",
    "y = np.array([-1,-2,-3,-4,0,6,7,-8,9,9])\n",
    "frame_length = 6 #2048\n",
    "hop_length = 2 #512\n",
    "\n",
    "print('y:',y, len(y))\n",
    "\n",
    "padding = [(0, 0) for _ in range(y.ndim)]\n",
    "print('padding:', padding)\n",
    "padding[-1] = (int(frame_length // 2), int(frame_length // 2))\n",
    "print('padding:', padding)\n",
    "\n",
    "y = np.pad(y, padding, mode=\"edge\")\n",
    "# with pd.option_context('display.max_rows', None, 'display.max_columns', None):  # more options can be specified also\n",
    "print(len(y))\n",
    "\n",
    "y_framed = util.frame(y, frame_length=frame_length, hop_length=hop_length)\n",
    "with pd.option_context('display.max_rows', None, 'display.max_columns', None):  # more options can be specified also\n",
    "    print(pd.DataFrame(y_framed))\n",
    "\n",
    "kwargs = {}\n",
    "kwargs[\"axis\"] = -2\n",
    "kwargs.setdefault(\"pad\", False)\n",
    "\n",
    "crossings = core.zero_crossings(y_framed, **kwargs)\n",
    "print(crossings)\n",
    "\n",
    "print(np.mean(crossings))"
   ]
  },
  {
   "cell_type": "code",
   "execution_count": 64,
   "metadata": {},
   "outputs": [
    {
     "data": {
      "text/plain": [
       "0.052829538"
      ]
     },
     "execution_count": 64,
     "metadata": {},
     "output_type": "execute_result"
    }
   ],
   "source": [
    "import ast\n",
    "\n",
    "with open('../app_v1/assets/ae_data/audio_engineering_zcr_feat.txt', 'r') as f:\n",
    "   a = np.array([ast.literal_eval(line) for line in f][0], dtype='float32')\n",
    "\n",
    "np.mean(a)\n",
    "\n",
    "#fechou! 0.05282953886310903"
   ]
  }
 ],
 "metadata": {
  "kernelspec": {
   "display_name": "Python 3.7.9 ('venv-bcd': venv)",
   "language": "python",
   "name": "python3"
  },
  "language_info": {
   "codemirror_mode": {
    "name": "ipython",
    "version": 3
   },
   "file_extension": ".py",
   "mimetype": "text/x-python",
   "name": "python",
   "nbconvert_exporter": "python",
   "pygments_lexer": "ipython3",
   "version": "3.7.9"
  },
  "orig_nbformat": 4,
  "vscode": {
   "interpreter": {
    "hash": "08de7fcbf0d7a5487cbf4a7217b50513904ca2934e0d1e5db5af6932996cec7a"
   }
  }
 },
 "nbformat": 4,
 "nbformat_minor": 2
}
