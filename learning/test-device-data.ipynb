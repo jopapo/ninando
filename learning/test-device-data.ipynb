{
 "cells": [
  {
   "cell_type": "code",
   "execution_count": 3,
   "metadata": {},
   "outputs": [],
   "source": [
    "import soundfile as sf\n",
    "import librosa\n",
    "import ast\n",
    "import numpy as np\n",
    "import pandas as pd"
   ]
  },
  {
   "cell_type": "code",
   "execution_count": 4,
   "metadata": {},
   "outputs": [
    {
     "data": {
      "text/html": [
       "<div>\n",
       "<style scoped>\n",
       "    .dataframe tbody tr th:only-of-type {\n",
       "        vertical-align: middle;\n",
       "    }\n",
       "\n",
       "    .dataframe tbody tr th {\n",
       "        vertical-align: top;\n",
       "    }\n",
       "\n",
       "    .dataframe thead th {\n",
       "        text-align: right;\n",
       "    }\n",
       "</style>\n",
       "<table border=\"1\" class=\"dataframe\">\n",
       "  <thead>\n",
       "    <tr style=\"text-align: right;\">\n",
       "      <th></th>\n",
       "      <th>0</th>\n",
       "    </tr>\n",
       "  </thead>\n",
       "  <tbody>\n",
       "    <tr>\n",
       "      <th>count</th>\n",
       "      <td>220500.000000</td>\n",
       "    </tr>\n",
       "    <tr>\n",
       "      <th>mean</th>\n",
       "      <td>0.000008</td>\n",
       "    </tr>\n",
       "    <tr>\n",
       "      <th>std</th>\n",
       "      <td>0.003087</td>\n",
       "    </tr>\n",
       "    <tr>\n",
       "      <th>min</th>\n",
       "      <td>-0.035370</td>\n",
       "    </tr>\n",
       "    <tr>\n",
       "      <th>25%</th>\n",
       "      <td>-0.001312</td>\n",
       "    </tr>\n",
       "    <tr>\n",
       "      <th>50%</th>\n",
       "      <td>0.000031</td>\n",
       "    </tr>\n",
       "    <tr>\n",
       "      <th>75%</th>\n",
       "      <td>0.001343</td>\n",
       "    </tr>\n",
       "    <tr>\n",
       "      <th>max</th>\n",
       "      <td>0.029633</td>\n",
       "    </tr>\n",
       "  </tbody>\n",
       "</table>\n",
       "</div>"
      ],
      "text/plain": [
       "                   0\n",
       "count  220500.000000\n",
       "mean        0.000008\n",
       "std         0.003087\n",
       "min        -0.035370\n",
       "25%        -0.001312\n",
       "50%         0.000031\n",
       "75%         0.001343\n",
       "max         0.029633"
      ]
     },
     "execution_count": 4,
     "metadata": {},
     "output_type": "execute_result"
    }
   ],
   "source": [
    "\n",
    "\n",
    "with open('my_data/float_data_from_device.txt', 'r') as f:\n",
    "   a = np.array([ast.literal_eval(line) for line in f][0], dtype='float32')\n",
    "\n",
    "sf.write('my_data/float_data_from_device.wav', a, 44100)\n",
    "\n",
    "pd.DataFrame(a).describe()\n"
   ]
  },
  {
   "cell_type": "code",
   "execution_count": 5,
   "metadata": {},
   "outputs": [
    {
     "name": "stdout",
     "output_type": "stream",
     "text": [
      "431 220500\n"
     ]
    }
   ],
   "source": [
    "DEFAULT_FRAME_SIZE = 512\n",
    "zcr_feat = librosa.feature.zero_crossing_rate(y=a, hop_length=DEFAULT_FRAME_SIZE)\n",
    "\n",
    "print(len(zcr_feat[0]), len(a))"
   ]
  },
  {
   "cell_type": "code",
   "execution_count": 6,
   "metadata": {},
   "outputs": [
    {
     "data": {
      "text/plain": [
       "{'AIFF': 'AIFF (Apple/SGI)',\n",
       " 'AU': 'AU (Sun/NeXT)',\n",
       " 'AVR': 'AVR (Audio Visual Research)',\n",
       " 'CAF': 'CAF (Apple Core Audio File)',\n",
       " 'FLAC': 'FLAC (Free Lossless Audio Codec)',\n",
       " 'HTK': 'HTK (HMM Tool Kit)',\n",
       " 'SVX': 'IFF (Amiga IFF/SVX8/SV16)',\n",
       " 'MAT4': 'MAT4 (GNU Octave 2.0 / Matlab 4.2)',\n",
       " 'MAT5': 'MAT5 (GNU Octave 2.1 / Matlab 5.0)',\n",
       " 'MPC2K': 'MPC (Akai MPC 2k)',\n",
       " 'OGG': 'OGG (OGG Container format)',\n",
       " 'PAF': 'PAF (Ensoniq PARIS)',\n",
       " 'PVF': 'PVF (Portable Voice Format)',\n",
       " 'RAW': 'RAW (header-less)',\n",
       " 'RF64': 'RF64 (RIFF 64)',\n",
       " 'SD2': 'SD2 (Sound Designer II)',\n",
       " 'SDS': 'SDS (Midi Sample Dump Standard)',\n",
       " 'IRCAM': 'SF (Berkeley/IRCAM/CARL)',\n",
       " 'VOC': 'VOC (Creative Labs)',\n",
       " 'W64': 'W64 (SoundFoundry WAVE 64)',\n",
       " 'WAV': 'WAV (Microsoft)',\n",
       " 'NIST': 'WAV (NIST Sphere)',\n",
       " 'WAVEX': 'WAVEX (Microsoft)',\n",
       " 'WVE': 'WVE (Psion Series 3)',\n",
       " 'XI': 'XI (FastTracker 2)'}"
      ]
     },
     "execution_count": 6,
     "metadata": {},
     "output_type": "execute_result"
    }
   ],
   "source": [
    "sf.available_formats()"
   ]
  },
  {
   "cell_type": "code",
   "execution_count": 7,
   "metadata": {},
   "outputs": [
    {
     "data": {
      "text/plain": [
       "{'PCM_S8': 'Signed 8 bit PCM',\n",
       " 'PCM_16': 'Signed 16 bit PCM',\n",
       " 'PCM_24': 'Signed 24 bit PCM',\n",
       " 'PCM_32': 'Signed 32 bit PCM',\n",
       " 'PCM_U8': 'Unsigned 8 bit PCM',\n",
       " 'FLOAT': '32 bit float',\n",
       " 'DOUBLE': '64 bit float',\n",
       " 'ULAW': 'U-Law',\n",
       " 'ALAW': 'A-Law',\n",
       " 'IMA_ADPCM': 'IMA ADPCM',\n",
       " 'MS_ADPCM': 'Microsoft ADPCM',\n",
       " 'GSM610': 'GSM 6.10',\n",
       " 'G721_32': '32kbs G721 ADPCM',\n",
       " 'G723_24': '24kbs G723 ADPCM',\n",
       " 'DWVW_12': '12 bit DWVW',\n",
       " 'DWVW_16': '16 bit DWVW',\n",
       " 'DWVW_24': '24 bit DWVW',\n",
       " 'VOX_ADPCM': 'VOX ADPCM',\n",
       " 'DPCM_16': '16 bit DPCM',\n",
       " 'DPCM_8': '8 bit DPCM',\n",
       " 'VORBIS': 'Vorbis',\n",
       " 'ALAC_16': '16 bit ALAC',\n",
       " 'ALAC_20': '20 bit ALAC',\n",
       " 'ALAC_24': '24 bit ALAC',\n",
       " 'ALAC_32': '32 bit ALAC'}"
      ]
     },
     "execution_count": 7,
     "metadata": {},
     "output_type": "execute_result"
    }
   ],
   "source": [
    "sf.available_subtypes()"
   ]
  },
  {
   "cell_type": "code",
   "execution_count": 8,
   "metadata": {},
   "outputs": [
    {
     "data": {
      "text/html": [
       "<div>\n",
       "<style scoped>\n",
       "    .dataframe tbody tr th:only-of-type {\n",
       "        vertical-align: middle;\n",
       "    }\n",
       "\n",
       "    .dataframe tbody tr th {\n",
       "        vertical-align: top;\n",
       "    }\n",
       "\n",
       "    .dataframe thead th {\n",
       "        text-align: right;\n",
       "    }\n",
       "</style>\n",
       "<table border=\"1\" class=\"dataframe\">\n",
       "  <thead>\n",
       "    <tr style=\"text-align: right;\">\n",
       "      <th></th>\n",
       "      <th>0</th>\n",
       "    </tr>\n",
       "  </thead>\n",
       "  <tbody>\n",
       "    <tr>\n",
       "      <th>count</th>\n",
       "      <td>109536.000000</td>\n",
       "    </tr>\n",
       "    <tr>\n",
       "      <th>mean</th>\n",
       "      <td>0.000119</td>\n",
       "    </tr>\n",
       "    <tr>\n",
       "      <th>std</th>\n",
       "      <td>0.036661</td>\n",
       "    </tr>\n",
       "    <tr>\n",
       "      <th>min</th>\n",
       "      <td>-0.389343</td>\n",
       "    </tr>\n",
       "    <tr>\n",
       "      <th>25%</th>\n",
       "      <td>-0.009216</td>\n",
       "    </tr>\n",
       "    <tr>\n",
       "      <th>50%</th>\n",
       "      <td>0.000000</td>\n",
       "    </tr>\n",
       "    <tr>\n",
       "      <th>75%</th>\n",
       "      <td>0.011292</td>\n",
       "    </tr>\n",
       "    <tr>\n",
       "      <th>max</th>\n",
       "      <td>0.247375</td>\n",
       "    </tr>\n",
       "  </tbody>\n",
       "</table>\n",
       "</div>"
      ],
      "text/plain": [
       "                   0\n",
       "count  109536.000000\n",
       "mean        0.000119\n",
       "std         0.036661\n",
       "min        -0.389343\n",
       "25%        -0.009216\n",
       "50%         0.000000\n",
       "75%         0.011292\n",
       "max         0.247375"
      ]
     },
     "execution_count": 8,
     "metadata": {},
     "output_type": "execute_result"
    }
   ],
   "source": [
    "#data, sr = librosa.load('my_data/flutter_sound_example.pcm', sr=44100, )\n",
    "\n",
    "with open('my_data/flutter_sound_example.pcm', 'rb') as f:\n",
    "    data, samplerate = sf.read(f, channels=1, samplerate=44100, subtype='PCM_16', format='RAW')\n",
    "\n",
    "\n",
    "# Teste de audibilidade\n",
    "sf.write('my_data/flutter_sound_example.wav', data, 44100)\n",
    "\n",
    "# Funcionou! Agora vamos ver\n",
    "pd.DataFrame(data).describe()"
   ]
  },
  {
   "cell_type": "code",
   "execution_count": 9,
   "metadata": {},
   "outputs": [
    {
     "name": "stdout",
     "output_type": "stream",
     "text": [
      "y: [-1 -2 -3 -4  0  6  7 -8  9  9] 10\n",
      "padding: [(0, 0)]\n",
      "padding: [(3, 3)]\n",
      "16\n",
      "   0  1  2  3  4  5\n",
      "0 -1 -1 -2 -4  6 -8\n",
      "1 -1 -1 -3  0  7  9\n",
      "2 -1 -2 -4  6 -8  9\n",
      "3 -1 -3  0  7  9  9\n",
      "4 -2 -4  6 -8  9  9\n",
      "5 -3  0  7  9  9  9\n",
      "[[False False False False False False]\n",
      " [False False False  True False  True]\n",
      " [False False False False  True False]\n",
      " [False False  True False  True False]\n",
      " [False False False  True False False]\n",
      " [False  True False  True False False]]\n",
      "0.2222222222222222\n"
     ]
    }
   ],
   "source": [
    "# teste reprodução zero-crossing-rate (zcr)\n",
    "\n",
    "import numpy as np\n",
    "import pandas as pd\n",
    "from librosa import util, core\n",
    "\n",
    "y = np.array([-1,-2,-3,-4,0,6,7,-8,9,9])\n",
    "frame_length = 6 #2048\n",
    "hop_length = 2 #512\n",
    "\n",
    "print('y:',y, len(y))\n",
    "\n",
    "padding = [(0, 0) for _ in range(y.ndim)]\n",
    "print('padding:', padding)\n",
    "padding[-1] = (int(frame_length // 2), int(frame_length // 2))\n",
    "print('padding:', padding)\n",
    "\n",
    "y = np.pad(y, padding, mode=\"edge\")\n",
    "# with pd.option_context('display.max_rows', None, 'display.max_columns', None):  # more options can be specified also\n",
    "print(len(y))\n",
    "\n",
    "y_framed = util.frame(y, frame_length=frame_length, hop_length=hop_length)\n",
    "with pd.option_context('display.max_rows', None, 'display.max_columns', None):  # more options can be specified also\n",
    "    print(pd.DataFrame(y_framed))\n",
    "\n",
    "kwargs = {}\n",
    "kwargs[\"axis\"] = -2\n",
    "kwargs.setdefault(\"pad\", False)\n",
    "\n",
    "crossings = core.zero_crossings(y_framed, **kwargs)\n",
    "print(crossings)\n",
    "\n",
    "print(np.mean(crossings))"
   ]
  },
  {
   "cell_type": "code",
   "execution_count": 10,
   "metadata": {},
   "outputs": [
    {
     "name": "stdout",
     "output_type": "stream",
     "text": [
      "zcr: 0.052829538 é igual ao valor no flutter: 0.05282953886310903 - fechou!\n"
     ]
    }
   ],
   "source": [
    "import ast\n",
    "\n",
    "with open('../app_v1/assets/ae_data/audio_engineering_zcr_feat.txt', 'r') as f:\n",
    "   zcr = np.array([ast.literal_eval(line) for line in f][0], dtype='float32')\n",
    "\n",
    "zcr_mean = np.mean(zcr)\n",
    "\n",
    "print('zcr:', zcr_mean, 'é igual ao valor no flutter:', 0.05282953886310903, '- fechou!')\n"
   ]
  },
  {
   "cell_type": "code",
   "execution_count": 11,
   "metadata": {},
   "outputs": [
    {
     "name": "stdout",
     "output_type": "stream",
     "text": [
      "y: [-1 -2 -3 -4  0  6  7 -8  9  9] 10\n",
      "padding: [(0, 0)]\n",
      "padding: [(3, 3)]\n",
      "16\n",
      "   0  1  2  3  4  5\n",
      "0  0  0 -2 -4  6 -8\n",
      "1  0 -1 -3  0  7  9\n",
      "2  0 -2 -4  6 -8  9\n",
      "3 -1 -3  0  7  9  0\n",
      "4 -2 -4  6 -8  9  0\n",
      "5 -3  0  7  9  0  0\n",
      "sum [[ 14  30 114 246 311 226]]\n",
      "[[ 2.33333333  5.         19.         41.         51.83333333 37.66666667]]\n",
      "[[1.52752523 2.23606798 4.35889894 6.40312424 7.19953702 6.13731755]]\n",
      "4.643745159797384\n"
     ]
    }
   ],
   "source": [
    "# teste reprodução root-mean-square (rms)\n",
    "y = np.array([-1,-2,-3,-4,0,6,7,-8,9,9])\n",
    "print('y:',y, len(y))\n",
    "\n",
    "padding = [(0, 0) for _ in range(y.ndim)]\n",
    "print('padding:', padding)\n",
    "padding[-1] = (int(frame_length // 2), int(frame_length // 2))\n",
    "print('padding:', padding)\n",
    "\n",
    "y = np.pad(y, padding, mode=\"constant\")\n",
    "# with pd.option_context('display.max_rows', None, 'display.max_columns', None):  # more options can be specified also\n",
    "#     print(pd.DataFrame(y_framed))\n",
    "print(len(y))\n",
    "\n",
    "y_framed = util.frame(y, frame_length=frame_length, hop_length=hop_length)\n",
    "with pd.option_context('display.max_rows', None, 'display.max_columns', None):  # more options can be specified also\n",
    "    print(pd.DataFrame(y_framed))\n",
    "\n",
    "sum_y = np.sum(np.abs(y_framed) ** 2, axis=-2, keepdims=True)\n",
    "print('sum', sum_y)\n",
    "\n",
    " # Calculate power\n",
    "power = np.mean(np.abs(y_framed) ** 2, axis=-2, keepdims=True)\n",
    "print(power)\n",
    "\n",
    "sqrt_val = np.sqrt(power)\n",
    "print(sqrt_val)\n",
    "\n",
    "print(np.mean(sqrt_val)) # 4.643745159797384 fechou com flutter\n"
   ]
  },
  {
   "cell_type": "code",
   "execution_count": 12,
   "metadata": {},
   "outputs": [
    {
     "name": "stdout",
     "output_type": "stream",
     "text": [
      "rms: 0.11672754 é igual ao valor no flutter: 0.11672754127981479 - fechou!\n"
     ]
    }
   ],
   "source": [
    "import ast\n",
    "\n",
    "with open('../app_v1/assets/ae_data/audio_engineering_rmse_feat.txt', 'r') as f:\n",
    "   rmse = np.array([ast.literal_eval(line) for line in f][0], dtype='float32')\n",
    "\n",
    "rmse_mean = np.mean(rmse)\n",
    "\n",
    "print('rms:', rmse_mean, 'é igual ao valor no flutter:', 0.11672754127981479, '- fechou!')\n"
   ]
  },
  {
   "cell_type": "code",
   "execution_count": 40,
   "metadata": {},
   "outputs": [
    {
     "name": "stdout",
     "output_type": "stream",
     "text": [
      "y: [-1. -2. -3. -4.  0.  6.  7. -8.  9.  9.]\n",
      "n_fft: 6\n",
      "S: [[ 3.25       7.75       2.5        7.75      11.5        9.       ]\n",
      " [ 2.3848479  5.238082   8.663862   8.792752  12.767145   8.112491 ]\n",
      " [ 0.6614378  1.6393596  4.5069394 12.876821  14.756354   5.9529405]\n",
      " [ 0.25       1.25       0.5       10.75      10.         4.5      ]]\n",
      "fft_window1: [0.   0.25 0.75 1.   0.75 0.25] hann\n",
      "fft_window2: [0.   0.25 0.75 1.   0.75 0.25]\n",
      "fft_window3: [[0.  ]\n",
      " [0.25]\n",
      " [0.75]\n",
      " [1.  ]\n",
      " [0.75]\n",
      " [0.25]]\n",
      "y_padded: [ 0.  0.  0. -1. -2. -3. -4.  0.  6.  7. -8.  9.  9.  0.  0.  0.]\n",
      "y_frames: [[ 0.  0. -2. -4.  6. -8.]\n",
      " [ 0. -1. -3.  0.  7.  9.]\n",
      " [ 0. -2. -4.  6. -8.  9.]\n",
      " [-1. -3.  0.  7.  9.  0.]\n",
      " [-2. -4.  6. -8.  9.  0.]\n",
      " [-3.  0.  7.  9.  0.  0.]]\n",
      "shape: [4, 6]\n",
      "n_columns: 8192\n",
      "range: range(0, 6, 8192)\n",
      "bl_t: 6 bl_s: 0\n",
      "stft_matrix_input: [[ 0.    0.   -0.   -0.    0.   -0.  ]\n",
      " [ 0.   -0.25 -0.75  0.    1.75  2.25]\n",
      " [ 0.   -1.5  -3.    4.5  -6.    6.75]\n",
      " [-1.   -3.    0.    7.    9.    0.  ]\n",
      " [-1.5  -3.    4.5  -6.    6.75  0.  ]\n",
      " [-0.75  0.    1.75  2.25  0.    0.  ]]\n",
      "freq: [    0.  7350. 14700. 22050.]\n",
      "freq2: [[    0.]\n",
      " [ 7350.]\n",
      " [14700.]\n",
      " [22050.]]\n",
      "S_norm: [[0.49646473 0.4881139  0.15459964 0.1929321  0.23458138 0.3264959 ]\n",
      " [0.3643055  0.32990718 0.53577197 0.21889086 0.26042908 0.29429942]\n",
      " [0.10104017 0.10325087 0.27870846 0.32056156 0.30100572 0.21595673]\n",
      " [0.03818959 0.07872805 0.03091993 0.2676155  0.2039838  0.16324794]]\n",
      "sc: [[ 5005.0164314   5678.55903581  8716.72265539 12222.02444002\n",
      "  10836.78062931  8937.28187531]]\n"
     ]
    },
    {
     "data": {
      "text/plain": [
       "[0.0,\n",
       " 0.3454915028125263,\n",
       " 0.9045084971874737,\n",
       " 0.9045084971874737,\n",
       " 0.3454915028125263,\n",
       " 0.0]"
      ]
     },
     "execution_count": 40,
     "metadata": {},
     "output_type": "execute_result"
    }
   ],
   "source": [
    "from librosa import core\n",
    "import numpy as np\n",
    "\n",
    "# teste reprodução spectral_centroid\n",
    "sr=44100\n",
    "n_fft=6 # mesmo que frame_length???\n",
    "#n_fft=2048 # mesmo que frame_length???\n",
    "\n",
    "freq=None\n",
    "win_length=n_fft #None\n",
    "window=\"hann\"\n",
    "center=True\n",
    "pad_mode=\"constant\"\n",
    "\n",
    "y = np.array([-1,-2,-3,-4,0,6,7,-8,9,9], dtype='float32')\n",
    "print('y:', y)\n",
    "\n",
    "S, n_fft = core.spectrum._spectrogram(\n",
    "    y=y,\n",
    "    n_fft=n_fft,\n",
    "    hop_length=hop_length,\n",
    "    win_length=win_length,\n",
    "    window=window,\n",
    "    center=center,\n",
    "    pad_mode=pad_mode,\n",
    ")\n",
    "print('n_fft:', n_fft)\n",
    "print('S:', S)\n",
    "\n",
    "fft_window = core.spectrum.get_window(window, win_length, fftbins=True)\n",
    "print('fft_window1:', fft_window, window)\n",
    "# Pad the window out to n_fft size\n",
    "fft_window = util.pad_center(fft_window, size=n_fft)\n",
    "print('fft_window2:', fft_window)\n",
    "# Reshape so that the window can be broadcast\n",
    "fft_window = util.expand_to(fft_window, ndim=1 + y.ndim, axes=-2)\n",
    "print('fft_window3:', fft_window)\n",
    "\n",
    "padding = [(0, 0) for _ in range(y.ndim)]\n",
    "padding[-1] = (int(n_fft // 2), int(n_fft // 2))\n",
    "y = np.pad(y, padding, mode=pad_mode)\n",
    "print('y_padded:', y)\n",
    "\n",
    "y_frames = util.frame(y, frame_length=n_fft, hop_length=hop_length)\n",
    "print('y_frames:', y_frames)\n",
    "\n",
    "dtype = util.dtype_r2c(y.dtype)\n",
    "# Pre-allocate the STFT matrix\n",
    "shape = list(y_frames.shape)\n",
    "shape[-2] = 1 + n_fft // 2\n",
    "print('shape:', shape)\n",
    "stft_matrix = np.empty(shape, dtype=dtype, order=\"F\")\n",
    "\n",
    "n_columns = util.MAX_MEM_BLOCK // (\n",
    "    np.prod(stft_matrix.shape[:-1]) * stft_matrix.itemsize\n",
    ")\n",
    "n_columns = max(n_columns, 1)\n",
    "print('n_columns:', n_columns)\n",
    "\n",
    "fft = core.spectrum.get_fftlib()\n",
    "print('range:', range(0, stft_matrix.shape[-1], n_columns))\n",
    "for bl_s in range(0, stft_matrix.shape[-1], n_columns):\n",
    "    bl_t = min(bl_s + n_columns, stft_matrix.shape[-1])\n",
    "    print('bl_t:', bl_t, 'bl_s:', bl_s)\n",
    "    stft_matrix[..., bl_s:bl_t] = fft.rfft(\n",
    "        fft_window * y_frames[..., bl_s:bl_t], axis=-2\n",
    "    )\n",
    "    print('stft_matrix_input:', fft_window * y_frames[..., bl_s:bl_t])\n",
    "\n",
    "    #print('stft_matrix:', stft_matrix)\n",
    "\n",
    "if not np.isrealobj(S):\n",
    "    raise \"Spectral centroid is only defined \" \"with real-valued input\"\n",
    "elif np.any(S < 0):\n",
    "    raise \"Spectral centroid is only defined \" \"with non-negative energies\"\n",
    "\n",
    "# Compute the center frequencies of each bin\n",
    "if freq is None:\n",
    "    freq = core.convert.fft_frequencies(sr=sr, n_fft=n_fft)\n",
    "    print('freq:', freq)\n",
    "\n",
    "if freq.ndim == 1:\n",
    "    # reshape for broadcasting\n",
    "    freq = util.expand_to(freq, ndim=S.ndim, axes=-2)\n",
    "    print('freq2:', freq)\n",
    "\n",
    "\n",
    "\n",
    "# Column-normalize S\n",
    "S_norm = util.normalize(S, norm=1, axis=-2)\n",
    "print('S_norm:', S_norm)\n",
    "\n",
    "sc = np.sum(freq * S_norm, axis=-2, keepdims=True)\n",
    "print('sc:', sc)\n",
    "\n",
    "[0.0, 0.3454915028125263, 0.9045084971874737, 0.9045084971874737, 0.3454915028125263, 0.0]\n"
   ]
  },
  {
   "cell_type": "code",
   "execution_count": 50,
   "metadata": {},
   "outputs": [
    {
     "name": "stdout",
     "output_type": "stream",
     "text": [
      "s6: [0.        0.3454915 0.9045085 0.9045085 0.3454915 0.       ]\n",
      "s7: [0.   0.25 0.75 1.   0.75 0.25 0.  ]\n",
      "l6: [0.   0.25 0.75 1.   0.75 0.25]\n",
      "l7: [0.         0.1882551  0.61126047 0.95048443 0.95048443 0.61126047\n",
      " 0.1882551 ]\n"
     ]
    }
   ],
   "source": [
    "from scipy import signal\n",
    "window = signal.windows.hann(6)\n",
    "print('s6:', window)\n",
    "window = signal.windows.hann(7)\n",
    "print('s7:', window)\n",
    "\n",
    "from librosa import core\n",
    "window = core.spectrum.get_window('hann', 6, fftbins=True)\n",
    "print('l6:', window)\n",
    "window = core.spectrum.get_window('hann', 7, fftbins=True)\n",
    "print('l7:', window)\n"
   ]
  }
 ],
 "metadata": {
  "kernelspec": {
   "display_name": "Python 3.7.9 ('venv-bcd': venv)",
   "language": "python",
   "name": "python3"
  },
  "language_info": {
   "codemirror_mode": {
    "name": "ipython",
    "version": 3
   },
   "file_extension": ".py",
   "mimetype": "text/x-python",
   "name": "python",
   "nbconvert_exporter": "python",
   "pygments_lexer": "ipython3",
   "version": "3.7.9"
  },
  "orig_nbformat": 4,
  "vscode": {
   "interpreter": {
    "hash": "08de7fcbf0d7a5487cbf4a7217b50513904ca2934e0d1e5db5af6932996cec7a"
   }
  }
 },
 "nbformat": 4,
 "nbformat_minor": 2
}
